{
 "cells": [
  {
   "cell_type": "markdown",
   "id": "c81a3e4f-8613-4e26-a74c-40964d5f080f",
   "metadata": {},
   "source": [
    "### Обрання варіанту"
   ]
  },
  {
   "cell_type": "code",
   "execution_count": 8,
   "id": "afd2b4de-b068-435f-8186-938b0bcf3795",
   "metadata": {},
   "outputs": [
    {
     "data": {
      "text/plain": [
       "1"
      ]
     },
     "execution_count": 8,
     "metadata": {},
     "output_type": "execute_result"
    }
   ],
   "source": [
    "N=ord(\"F\")%10+1\n",
    "N"
   ]
  },
  {
   "cell_type": "markdown",
   "id": "0117ca90-73a7-414c-a901-bf1b57b3b0a5",
   "metadata": {},
   "source": [
    "# Греція\n",
    "1. *Площа: 131 957 км²*\n",
    "2. **Величина населення: 10 482 487 осіб**\n",
    "    2. <span style=\"color:blue\"> Форма првління: парламентська республіка </span>\n",
    "        2. <span style=\"color:green\"> Державний устрій: унітарна держава </span>\n",
    "\n",
    "## Видатні особистості\n",
    "|Особа|Діяльність|\n",
    "|--------|-------|\n",
    "|Сократ|Філософія|\n",
    "|Платон|Філософія|\n",
    "|Аристотель|Філософія, логіка, математика|\n",
    "|Піфагор|Математика, астрономія|\n",
    "|Демокрит|Фізика, філософія, математика|\n",
    "\r",
    "![Текст с описанием картинки](https://tourzhara.com/images/Greece.jpg)\n",
    "\n",
    "\n",
    "\n",
    "[Стаття на вікіпедії ](https://ru.wikipedia.org/wiki/Греция)"
   ]
  },
  {
   "cell_type": "code",
   "execution_count": 9,
   "id": "a3755b3d-8b51-439e-90ac-34fc728f1b30",
   "metadata": {},
   "outputs": [
    {
     "data": {
      "text/html": [
       "\n",
       "<svg width=\"600\" height=\"300\">\n",
       "  <rect width=\"600\" height=\"270\" fill=\"blue\"/>\n",
       "  <rect y=\"30\" width=\"600\" height=\"30\" fill=\"white\"/>\n",
       "  <rect y=\"90\" width=\"600\" height=\"30\" fill=\"white\"/>\n",
       "  <rect y=\"150\" width=\"600\" height=\"30\" fill=\"white\"/>\n",
       "  <rect y=\"210\" width=\"600\" height=\"30\" fill=\"white\"/>\n",
       "\n",
       "  <rect x=\"0\" y=\"0\" width=\"150\" height=\"150\" fill=\"Blue\"/>\n",
       "  <rect x=\"60\" width=\"30\" height=\"150\" fill=\"white\"/>\n",
       "  <rect y=\"60\" width=\"150\" height=\"30\" fill=\"white\"/>\n",
       "</svg>\n"
      ],
      "text/plain": [
       "<IPython.core.display.HTML object>"
      ]
     },
     "metadata": {},
     "output_type": "display_data"
    }
   ],
   "source": [
    "%%HTML\n",
    "\n",
    "<svg width=\"600\" height=\"300\">\n",
    "  <rect width=\"600\" height=\"270\" fill=\"blue\"/>\n",
    "  <rect y=\"30\" width=\"600\" height=\"30\" fill=\"white\"/>\n",
    "  <rect y=\"90\" width=\"600\" height=\"30\" fill=\"white\"/>\n",
    "  <rect y=\"150\" width=\"600\" height=\"30\" fill=\"white\"/>\n",
    "  <rect y=\"210\" width=\"600\" height=\"30\" fill=\"white\"/>\n",
    "\n",
    "  <rect x=\"0\" y=\"0\" width=\"150\" height=\"150\" fill=\"Blue\"/>\n",
    "  <rect x=\"60\" width=\"30\" height=\"150\" fill=\"white\"/>\n",
    "  <rect y=\"60\" width=\"150\" height=\"30\" fill=\"white\"/>\n",
    "</svg>"
   ]
  },
  {
   "cell_type": "markdown",
   "id": "23a21f76-58ba-483d-a5d5-a7fc8f06d2f9",
   "metadata": {},
   "source": [
    "# Реалізація гіпотези Гольдбаха, що стверджує, що будь-яке парне число (окрім 2) може бути представлене у вигляді суми двох простих чисел"
   ]
  },
  {
   "cell_type": "code",
   "execution_count": 10,
   "id": "c1282357-1faa-4966-b6cd-586712d5c9f8",
   "metadata": {},
   "outputs": [],
   "source": [
    "import math\n",
    "def pros_nums(x):\n",
    "    pros_nums=[]\n",
    "    for i in range(1,x):\n",
    "        t=True\n",
    "        for j in range(2,i):\n",
    "            if(i%j==0):\n",
    "                t=False\n",
    "        if(t):\n",
    "            pros_nums.append(i)\n",
    "    return pros_nums\n",
    "def task_1(x):\n",
    "    if(type(x)!=type(6)):\n",
    "        print(\"Incorrect number\")\n",
    "    else:\n",
    "        nums=pros_nums(x)\n",
    "        br=False\n",
    "        for i in range(len(nums)):\n",
    "            for j in range(len(nums)-1,0,-1):\n",
    "                if(nums[i]+nums[j]==x and nums[i]!=nums[j]):\n",
    "                    print(f\"Число {x} можна представити як {nums[i]} + {nums[j]}\")\n",
    "                    br=True\n",
    "                    break\n",
    "                if(nums[i]+nums[j]<x):\n",
    "                    break\n",
    "            if(br):\n",
    "                break"
   ]
  },
  {
   "cell_type": "code",
   "execution_count": 11,
   "id": "42b3ecd5-019f-4b7b-8966-93fa3a734393",
   "metadata": {},
   "outputs": [
    {
     "name": "stdout",
     "output_type": "stream",
     "text": [
      "Число 6 можна представити як 1 + 5\n"
     ]
    }
   ],
   "source": [
    "task_1(6) "
   ]
  },
  {
   "cell_type": "code",
   "execution_count": 12,
   "id": "3c734ed8-5101-4fa9-a8e8-4d254c51e702",
   "metadata": {},
   "outputs": [
    {
     "name": "stdout",
     "output_type": "stream",
     "text": [
      "Число 28 можна представити як 5 + 23\n"
     ]
    }
   ],
   "source": [
    "task_1(28) "
   ]
  },
  {
   "cell_type": "code",
   "execution_count": 13,
   "id": "d2732637-7fcc-4959-b3da-3ecd174b2376",
   "metadata": {},
   "outputs": [
    {
     "name": "stdout",
     "output_type": "stream",
     "text": [
      "Incorrect number\n"
     ]
    }
   ],
   "source": [
    "task_1(\"siga\")"
   ]
  },
  {
   "cell_type": "code",
   "execution_count": null,
   "id": "5509ed7d-7dbe-4570-b913-d5ec6674a9cc",
   "metadata": {},
   "outputs": [],
   "source": []
  }
 ],
 "metadata": {
  "kernelspec": {
   "display_name": "Python 3 (ipykernel)",
   "language": "python",
   "name": "python3"
  },
  "language_info": {
   "codemirror_mode": {
    "name": "ipython",
    "version": 3
   },
   "file_extension": ".py",
   "mimetype": "text/x-python",
   "name": "python",
   "nbconvert_exporter": "python",
   "pygments_lexer": "ipython3",
   "version": "3.11.7"
  }
 },
 "nbformat": 4,
 "nbformat_minor": 5
}
